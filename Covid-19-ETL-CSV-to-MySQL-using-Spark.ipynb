{
 "cells": [
  {
   "cell_type": "code",
   "execution_count": null,
   "id": "e022fd46-a3f4-4643-aaed-beda93d0e6d0",
   "metadata": {},
   "outputs": [],
   "source": [
    "# Install PySpark and Findspark\n",
    "!pip install pyspark"
   ]
  },
  {
   "cell_type": "code",
   "execution_count": null,
   "id": "8e3a27bd-d7bd-4379-b94b-a1a8f331515d",
   "metadata": {},
   "outputs": [],
   "source": [
    "# Install MySQL connector\n",
    "!wget https://repo1.maven.org/maven2/mysql/mysql-connector-java/8.0.29/mysql-connector-java-8.0.29.jar"
   ]
  },
  {
   "cell_type": "code",
   "execution_count": null,
   "id": "d6fd72d8-57f3-4b35-ad72-e29ae88c8ae2",
   "metadata": {},
   "outputs": [],
   "source": [
    "!pip install findspark"
   ]
  },
  {
   "cell_type": "code",
   "execution_count": 19,
   "id": "4a6e8f10-ebe5-415c-98cb-667776e201f3",
   "metadata": {},
   "outputs": [],
   "source": [
    "import findspark\n",
    "findspark.init()\n",
    "\n",
    "from pyspark.sql import SparkSession\n"
   ]
  },
  {
   "cell_type": "code",
   "execution_count": 21,
   "id": "3a616aa0-3205-4aff-9959-a44a729ba361",
   "metadata": {},
   "outputs": [],
   "source": [
    "# Reconfigure the Spark session to increase maxToStringFields\n",
    "spark = SparkSession.builder \\\n",
    "    .appName(\"CSV to MySQL ETL\") \\\n",
    "    .config(\"spark.jars\", \"mysql-connector-java-8.0.29.jar\") \\\n",
    "    .config(\"spark.sql.debug.maxToStringFields\", \"100\").getOrCreate()"
   ]
  },
  {
   "cell_type": "code",
   "execution_count": 23,
   "id": "89b98134-975a-4bed-9b50-4e37fd3478f5",
   "metadata": {},
   "outputs": [
    {
     "data": {
      "text/plain": [
       "<bound method DataFrame.head of DataFrame[country_region: string, confirmed: int, deaths: int, recovered: int, active: int, new_cases: int, new_deaths: int, new_recovered: int, deaths_per_100_cases: double, recovered_per_100_cases: double, deaths_per_100_recovered: string, confirmed_last_week: int, one_week_change: int, one_week_percent_increase: double, who_region: string]>"
      ]
     },
     "execution_count": 23,
     "metadata": {},
     "output_type": "execute_result"
    }
   ],
   "source": [
    "# Replace 'path_to_csv' with the path to your CSV file\n",
    "df = spark.read.format(\"csv\") \\\n",
    "    .option(\"header\", \"true\") \\\n",
    "    .option(\"inferSchema\", \"true\") \\\n",
    "    .option(\"delimiter\", \",\") \\\n",
    "    .load(\"ETL-Pipeline-02/country_wise_latest.csv\")\n",
    "\n",
    "# Show the DataFrame to verify it's loaded correctly\n",
    "df.head\n"
   ]
  },
  {
   "cell_type": "code",
   "execution_count": 27,
   "id": "6072705e-9bfa-4a55-9315-e3662a19fecf",
   "metadata": {},
   "outputs": [],
   "source": [
    "# MySQL database connection details\n",
    "url = \"jdbc:mysql://127.0.0.1:3306/etl_project\"  # Corrected the IP address format\n",
    "properties = {\n",
    "    \"user\": \"anwar\",\n",
    "    \"password\": \"qrc135zx\",\n",
    "    \"driver\": \"com.mysql.cj.jdbc.Driver\"\n",
    "}\n",
    "\n",
    "# Write the DataFrame to the MySQL table\n",
    "df.write.jdbc(url=url, table=\"country_wise\", mode=\"append\", properties=properties)\n"
   ]
  },
  {
   "cell_type": "code",
   "execution_count": 29,
   "id": "b1587a97-a9ce-4935-b023-36cb344e6e42",
   "metadata": {},
   "outputs": [],
   "source": [
    "spark.stop()"
   ]
  },
  {
   "cell_type": "code",
   "execution_count": null,
   "id": "e0489288-f65c-415f-ad0c-404b38898fb6",
   "metadata": {},
   "outputs": [],
   "source": []
  }
 ],
 "metadata": {
  "kernelspec": {
   "display_name": "Python 3 (ipykernel)",
   "language": "python",
   "name": "python3"
  },
  "language_info": {
   "codemirror_mode": {
    "name": "ipython",
    "version": 3
   },
   "file_extension": ".py",
   "mimetype": "text/x-python",
   "name": "python",
   "nbconvert_exporter": "python",
   "pygments_lexer": "ipython3",
   "version": "3.11.7"
  }
 },
 "nbformat": 4,
 "nbformat_minor": 5
}
